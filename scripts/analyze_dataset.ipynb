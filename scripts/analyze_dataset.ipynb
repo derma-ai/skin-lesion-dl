{
 "cells": [
  {
   "cell_type": "code",
   "execution_count": 4,
   "metadata": {},
   "outputs": [],
   "source": [
    "import os\n",
    "import sys\n",
    "\n",
    "script_dir = os.path.dirname('__file__')\n",
    "sys.path.append(os.path.join(script_dir, '..', 'src'))\n",
    "\n",
    "import data_handler"
   ]
  },
  {
   "cell_type": "code",
   "execution_count": 6,
   "metadata": {},
   "outputs": [
    {
     "ename": "KeyError",
     "evalue": "'t'",
     "output_type": "error",
     "traceback": [
      "\u001b[1;31m---------------------------------------------------------------------------\u001b[0m",
      "\u001b[1;31mKeyError\u001b[0m                                  Traceback (most recent call last)",
      "\u001b[1;32mc:\\git-repositories\\derma_ai_idp\\scripts\\analyze_dataset.ipynb Cell 2'\u001b[0m in \u001b[0;36m<cell line: 1>\u001b[1;34m()\u001b[0m\n\u001b[1;32m----> <a href='vscode-notebook-cell:/c%3A/git-repositories/derma_ai_idp/scripts/analyze_dataset.ipynb#ch0000001?line=0'>1</a>\u001b[0m data_handler\u001b[39m.\u001b[39;49msetup_data(hparams\u001b[39m=\u001b[39;49m{\u001b[39m'\u001b[39;49m\u001b[39mpath\u001b[39;49m\u001b[39m'\u001b[39;49m: os\u001b[39m.\u001b[39;49mpath\u001b[39m.\u001b[39;49mjoin(os\u001b[39m.\u001b[39;49mpath\u001b[39m.\u001b[39;49mexpanduser(\u001b[39m\"\u001b[39;49m\u001b[39m~\u001b[39;49m\u001b[39m\"\u001b[39;49m), \u001b[39m'\u001b[39;49m\u001b[39mshare-all\u001b[39;49m\u001b[39m'\u001b[39;49m, \u001b[39m'\u001b[39;49m\u001b[39mderma-data\u001b[39;49m\u001b[39m'\u001b[39;49m, \u001b[39m'\u001b[39;49m\u001b[39marchive\u001b[39;49m\u001b[39m'\u001b[39;49m)})\n",
      "File \u001b[1;32mc:\\git-repositories\\derma_ai_idp\\scripts\\..\\src\\data_handler.py:24\u001b[0m, in \u001b[0;36msetup_data\u001b[1;34m(hparams)\u001b[0m\n\u001b[0;32m     <a href='file:///c%3A/git-repositories/derma_ai_idp/scripts/../src/data_handler.py?line=13'>14</a>\u001b[0m \u001b[39mdef\u001b[39;00m \u001b[39msetup_data\u001b[39m(hparams):\n\u001b[0;32m     <a href='file:///c%3A/git-repositories/derma_ai_idp/scripts/../src/data_handler.py?line=14'>15</a>\u001b[0m     \u001b[39m# This somehow makes the performance terrible.\u001b[39;00m\n\u001b[0;32m     <a href='file:///c%3A/git-repositories/derma_ai_idp/scripts/../src/data_handler.py?line=15'>16</a>\u001b[0m     \u001b[39m# normalize = transforms.Normalize(mean=[0.485, 0.456, 0.406], std=[0.229, 0.224, 0.225])\u001b[39;00m\n\u001b[0;32m     <a href='file:///c%3A/git-repositories/derma_ai_idp/scripts/../src/data_handler.py?line=17'>18</a>\u001b[0m     base_transforms \u001b[39m=\u001b[39m transforms\u001b[39m.\u001b[39mCompose([\n\u001b[0;32m     <a href='file:///c%3A/git-repositories/derma_ai_idp/scripts/../src/data_handler.py?line=18'>19</a>\u001b[0m         transforms\u001b[39m.\u001b[39mToTensor(),\n\u001b[0;32m     <a href='file:///c%3A/git-repositories/derma_ai_idp/scripts/../src/data_handler.py?line=19'>20</a>\u001b[0m         transforms\u001b[39m.\u001b[39mResize((\u001b[39m224\u001b[39m, \u001b[39m224\u001b[39m))\n\u001b[0;32m     <a href='file:///c%3A/git-repositories/derma_ai_idp/scripts/../src/data_handler.py?line=20'>21</a>\u001b[0m     ]\n\u001b[0;32m     <a href='file:///c%3A/git-repositories/derma_ai_idp/scripts/../src/data_handler.py?line=21'>22</a>\u001b[0m     )\n\u001b[1;32m---> <a href='file:///c%3A/git-repositories/derma_ai_idp/scripts/../src/data_handler.py?line=23'>24</a>\u001b[0m     train_transform \u001b[39m=\u001b[39m get_train_transforms(hparams[\u001b[39m\"\u001b[39;49m\u001b[39mt\u001b[39;49m\u001b[39m\"\u001b[39;49m])\n\u001b[0;32m     <a href='file:///c%3A/git-repositories/derma_ai_idp/scripts/../src/data_handler.py?line=25'>26</a>\u001b[0m     root \u001b[39m=\u001b[39m os\u001b[39m.\u001b[39mpath\u001b[39m.\u001b[39mjoin(\u001b[39m\"\u001b[39m\u001b[39m/\u001b[39m\u001b[39m\"\u001b[39m, \u001b[39m\"\u001b[39m\u001b[39mspace\u001b[39m\u001b[39m\"\u001b[39m, \u001b[39m\"\u001b[39m\u001b[39mderma-data\u001b[39m\u001b[39m\"\u001b[39m)\n\u001b[0;32m     <a href='file:///c%3A/git-repositories/derma_ai_idp/scripts/../src/data_handler.py?line=26'>27</a>\u001b[0m     dataset \u001b[39m=\u001b[39m datasets\u001b[39m.\u001b[39mImageFolder(root, base_transforms)\n",
      "\u001b[1;31mKeyError\u001b[0m: 't'"
     ]
    }
   ],
   "source": [
    "data_handler.setup_data(hparams={'path': os.path.expanduser(os.path.join('~', 'share-all', 'derma-data', 'archive')), 't': \"\"})"
   ]
  }
 ],
 "metadata": {
  "interpreter": {
   "hash": "8576e7d72854e94d837e0e3f6c8fd8a6b3df90caeee0de1eb9697e47d5695048"
  },
  "kernelspec": {
   "display_name": "Python 3.8.13 ('idp_env')",
   "language": "python",
   "name": "python3"
  },
  "language_info": {
   "codemirror_mode": {
    "name": "ipython",
    "version": 3
   },
   "file_extension": ".py",
   "mimetype": "text/x-python",
   "name": "python",
   "nbconvert_exporter": "python",
   "pygments_lexer": "ipython3",
   "version": "3.8.13"
  },
  "orig_nbformat": 4
 },
 "nbformat": 4,
 "nbformat_minor": 2
}
